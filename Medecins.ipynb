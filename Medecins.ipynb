{
 "cells": [
  {
   "cell_type": "markdown",
   "metadata": {
    "slideshow": {
     "slide_type": "slide"
    }
   },
   "source": [
    "---\n",
    "#  <center> Projet DataScience </center>\n",
    "---\n",
    "# Effectifs des médecins par régions de 2013 à 2015\n",
    "---\n",
    "## Groupe Zacharie Barbecot, Didier Bertille, Jérémie Chattou\n",
    "<body background=\"background.jpg\"> "
   ]
  },
  {
   "cell_type": "markdown",
   "metadata": {
    "slideshow": {
     "slide_type": "slide"
    }
   },
   "source": [
    "***\n",
    "### Import des packages utilisées pour le projet\n",
    "***"
   ]
  },
  {
   "cell_type": "code",
   "execution_count": 11,
   "metadata": {
    "collapsed": false,
    "slideshow": {
     "slide_type": "-"
    }
   },
   "outputs": [
    {
     "ename": "ImportError",
     "evalue": "cannot import name __check_build",
     "output_type": "error",
     "traceback": [
      "\u001b[1;31m---------------------------------------------------------------------------\u001b[0m",
      "\u001b[1;31mImportError\u001b[0m                               Traceback (most recent call last)",
      "\u001b[1;32m<ipython-input-11-0621d210a064>\u001b[0m in \u001b[0;36m<module>\u001b[1;34m()\u001b[0m\n\u001b[0;32m      2\u001b[0m \u001b[1;32mimport\u001b[0m \u001b[0mnumpy\u001b[0m \u001b[1;32mas\u001b[0m \u001b[0mnp\u001b[0m\u001b[1;33m\u001b[0m\u001b[0m\n\u001b[0;32m      3\u001b[0m \u001b[1;32mimport\u001b[0m \u001b[0mmatplotlib\u001b[0m\u001b[1;33m.\u001b[0m\u001b[0mpyplot\u001b[0m \u001b[1;32mas\u001b[0m \u001b[0mplt\u001b[0m\u001b[1;33m\u001b[0m\u001b[0m\n\u001b[1;32m----> 4\u001b[1;33m \u001b[1;32mfrom\u001b[0m \u001b[0msklearn\u001b[0m\u001b[1;33m.\u001b[0m\u001b[0mcluster\u001b[0m \u001b[1;32mimport\u001b[0m \u001b[0mKMeans\u001b[0m\u001b[1;33m,\u001b[0m \u001b[0mAgglomerativeClustering\u001b[0m\u001b[1;33m,\u001b[0m \u001b[0mDBSCAN\u001b[0m\u001b[1;33m\u001b[0m\u001b[0m\n\u001b[0m\u001b[0;32m      5\u001b[0m \u001b[0mget_ipython\u001b[0m\u001b[1;33m(\u001b[0m\u001b[1;33m)\u001b[0m\u001b[1;33m.\u001b[0m\u001b[0mmagic\u001b[0m\u001b[1;33m(\u001b[0m\u001b[1;34mu'matplotlib inline'\u001b[0m\u001b[1;33m)\u001b[0m\u001b[1;33m\u001b[0m\u001b[0m\n",
      "\u001b[1;32mG:\\M2\\DataScience\\Anaconda\\lib\\site-packages\\sklearn\\__init__.py\u001b[0m in \u001b[0;36m<module>\u001b[1;34m()\u001b[0m\n\u001b[0;32m     54\u001b[0m     \u001b[1;31m# process, as it may not be compiled yet\u001b[0m\u001b[1;33m\u001b[0m\u001b[1;33m\u001b[0m\u001b[0m\n\u001b[0;32m     55\u001b[0m \u001b[1;32melse\u001b[0m\u001b[1;33m:\u001b[0m\u001b[1;33m\u001b[0m\u001b[0m\n\u001b[1;32m---> 56\u001b[1;33m     \u001b[1;32mfrom\u001b[0m \u001b[1;33m.\u001b[0m \u001b[1;32mimport\u001b[0m \u001b[0m__check_build\u001b[0m\u001b[1;33m\u001b[0m\u001b[0m\n\u001b[0m\u001b[0;32m     57\u001b[0m     \u001b[1;32mfrom\u001b[0m \u001b[1;33m.\u001b[0m\u001b[0mbase\u001b[0m \u001b[1;32mimport\u001b[0m \u001b[0mclone\u001b[0m\u001b[1;33m\u001b[0m\u001b[0m\n\u001b[0;32m     58\u001b[0m     \u001b[0m__check_build\u001b[0m  \u001b[1;31m# avoid flakes unused variable error\u001b[0m\u001b[1;33m\u001b[0m\u001b[0m\n",
      "\u001b[1;31mImportError\u001b[0m: cannot import name __check_build"
     ]
    }
   ],
   "source": [
    "import pandas as pd\n",
    "import numpy as np\n",
    "import matplotlib.pyplot as plt\n",
    "from sklearn.cluster import KMeans, AgglomerativeClustering, DBSCAN\n",
    "%matplotlib inline"
   ]
  },
  {
   "cell_type": "markdown",
   "metadata": {
    "slideshow": {
     "slide_type": "slide"
    }
   },
   "source": [
    "***\n",
    "### Lecture des 3 jeux de données\n",
    "1<sup>er</sup> fichier:  DensiteMedecins-2015.xlsx | 2<sup>ème</sup> fichier: DensiteMedecins-2014.xlsx | 3<sup>ème</sup> fichier: DensiteMedecins-2013.xlsx\n",
    "***"
   ]
  },
  {
   "cell_type": "code",
   "execution_count": 2,
   "metadata": {
    "collapsed": false,
    "slideshow": {
     "slide_type": "-"
    }
   },
   "outputs": [],
   "source": [
    "dfile2015 = pd.read_excel(\"./DensiteMedecins-2015.xlsx\", skiprows=5,encoding=\"utf-8\")\n",
    "dfile2014 = pd.read_excel(\"./DensiteMedecins-2014.xlsx\", skiprows=5,encoding=\"utf-8\")\n",
    "dfile2013 = pd.read_excel(\"./DensiteMedecins-2013.xlsx\", skiprows=5,encoding=\"utf-8\")"
   ]
  },
  {
   "cell_type": "code",
   "execution_count": 3,
   "metadata": {
    "collapsed": false,
    "slideshow": {
     "slide_type": "-"
    }
   },
   "outputs": [],
   "source": [
    "data2015 = pd.DataFrame(dfile2015)\n",
    "data2014 = pd.DataFrame(dfile2014)\n",
    "data2013 = pd.DataFrame(dfile2013)"
   ]
  },
  {
   "cell_type": "markdown",
   "metadata": {
    "slideshow": {
     "slide_type": "subslide"
    }
   },
   "source": [
    "\n",
    "**1. Mise en forme des jeux de données ** \n",
    "\n",
    "Création de la colonne année.\n"
   ]
  },
  {
   "cell_type": "code",
   "execution_count": 4,
   "metadata": {
    "collapsed": false,
    "slideshow": {
     "slide_type": "-"
    }
   },
   "outputs": [],
   "source": [
    "data2015[u\"Année\"] = 2015\n",
    "data2014[u\"Année\"] = 2014\n",
    "data2013[u\"Année\"] = 2013"
   ]
  },
  {
   "cell_type": "markdown",
   "metadata": {
    "slideshow": {
     "slide_type": "subslide"
    }
   },
   "source": [
    "\n",
    "**2. Récupération des colonnes intéressantes pour le jeu de données **"
   ]
  },
  {
   "cell_type": "code",
   "execution_count": 5,
   "metadata": {
    "collapsed": false,
    "slideshow": {
     "slide_type": "-"
    }
   },
   "outputs": [],
   "source": [
    "data_in2015 = data2015[['Zones inscription', u'Médecine générale', u'Année']]\n",
    "data_in2014 = data2014[['Zones inscription', u'Médecine générale', u'Année']]\n",
    "data_in2013 = data2013[['Zones inscription', u'Médecine générale', u'Année']]"
   ]
  },
  {
   "cell_type": "markdown",
   "metadata": {
    "slideshow": {
     "slide_type": "slide"
    }
   },
   "source": [
    "***\n",
    "### Mise en forme du graphique et du tableau - Densité des médecins par région en 2013 -2015\n",
    "\n",
    "Récupération des régions, trie dela densité de médecins par ordre décroissant, affichage d'un graphique avec bar horizontal.\n",
    "***\n"
   ]
  },
  {
   "cell_type": "markdown",
   "metadata": {
    "slideshow": {
     "slide_type": "subslide"
    }
   },
   "source": [
    "** 1. Mise en place des données **\n",
    "\n",
    "Récupération des régions pour les jeux de données et trie selon la densité de médecins."
   ]
  },
  {
   "cell_type": "code",
   "execution_count": 6,
   "metadata": {
    "collapsed": true,
    "slideshow": {
     "slide_type": "-"
    }
   },
   "outputs": [],
   "source": [
    "region2015 = data_in2015.iloc[2:29]\n",
    "region2015sort = region2015.sort_values(u'Médecine générale')\n",
    "\n",
    "region2014 = data_in2014.iloc[2:29]\n",
    "region2014sort = region2014.sort_values(u'Médecine générale')\n",
    "\n",
    "region2013 = data_in2013.iloc[2:29]\n",
    "region2013sort = region2013.sort_values(u'Médecine générale')"
   ]
  },
  {
   "cell_type": "markdown",
   "metadata": {
    "slideshow": {
     "slide_type": "subslide"
    }
   },
   "source": [
    "** 2. Affichage du tableaux de densité de médecin - année 2015 **"
   ]
  },
  {
   "cell_type": "code",
   "execution_count": 7,
   "metadata": {
    "collapsed": false,
    "slideshow": {
     "slide_type": "-"
    }
   },
   "outputs": [
    {
     "data": {
      "text/html": [
       "<div>\n",
       "<table border=\"1\" class=\"dataframe\">\n",
       "  <thead>\n",
       "    <tr style=\"text-align: right;\">\n",
       "      <th></th>\n",
       "      <th>Zones inscription</th>\n",
       "      <th>Médecine générale</th>\n",
       "      <th>Année</th>\n",
       "    </tr>\n",
       "  </thead>\n",
       "  <tbody>\n",
       "    <tr>\n",
       "      <th>21</th>\n",
       "      <td>Mayotte</td>\n",
       "      <td>52.2</td>\n",
       "      <td>2015</td>\n",
       "    </tr>\n",
       "    <tr>\n",
       "      <th>12</th>\n",
       "      <td>Guadeloupe</td>\n",
       "      <td>126.3</td>\n",
       "      <td>2015</td>\n",
       "    </tr>\n",
       "    <tr>\n",
       "      <th>20</th>\n",
       "      <td>Martinique</td>\n",
       "      <td>127.7</td>\n",
       "      <td>2015</td>\n",
       "    </tr>\n",
       "    <tr>\n",
       "      <th>8</th>\n",
       "      <td>Centre</td>\n",
       "      <td>129.6</td>\n",
       "      <td>2015</td>\n",
       "    </tr>\n",
       "    <tr>\n",
       "      <th>13</th>\n",
       "      <td>Guyane</td>\n",
       "      <td>132.6</td>\n",
       "      <td>2015</td>\n",
       "    </tr>\n",
       "    <tr>\n",
       "      <th>25</th>\n",
       "      <td>Picardie</td>\n",
       "      <td>134.1</td>\n",
       "      <td>2015</td>\n",
       "    </tr>\n",
       "    <tr>\n",
       "      <th>14</th>\n",
       "      <td>Haute-Normandie</td>\n",
       "      <td>136.2</td>\n",
       "      <td>2015</td>\n",
       "    </tr>\n",
       "    <tr>\n",
       "      <th>6</th>\n",
       "      <td>Bourgogne</td>\n",
       "      <td>140.1</td>\n",
       "      <td>2015</td>\n",
       "    </tr>\n",
       "    <tr>\n",
       "      <th>24</th>\n",
       "      <td>Pays de la Loire</td>\n",
       "      <td>144.1</td>\n",
       "      <td>2015</td>\n",
       "    </tr>\n",
       "    <tr>\n",
       "      <th>9</th>\n",
       "      <td>Champagne-Ardenne</td>\n",
       "      <td>144.3</td>\n",
       "      <td>2015</td>\n",
       "    </tr>\n",
       "    <tr>\n",
       "      <th>19</th>\n",
       "      <td>Lorraine</td>\n",
       "      <td>149.6</td>\n",
       "      <td>2015</td>\n",
       "    </tr>\n",
       "    <tr>\n",
       "      <th>5</th>\n",
       "      <td>Basse-Normandie</td>\n",
       "      <td>150.5</td>\n",
       "      <td>2015</td>\n",
       "    </tr>\n",
       "    <tr>\n",
       "      <th>15</th>\n",
       "      <td>Ile-de-France</td>\n",
       "      <td>152.1</td>\n",
       "      <td>2015</td>\n",
       "    </tr>\n",
       "    <tr>\n",
       "      <th>4</th>\n",
       "      <td>Auvergne</td>\n",
       "      <td>152.9</td>\n",
       "      <td>2015</td>\n",
       "    </tr>\n",
       "    <tr>\n",
       "      <th>10</th>\n",
       "      <td>Corse</td>\n",
       "      <td>155.7</td>\n",
       "      <td>2015</td>\n",
       "    </tr>\n",
       "    <tr>\n",
       "      <th>26</th>\n",
       "      <td>Poitou-Charentes</td>\n",
       "      <td>155.9</td>\n",
       "      <td>2015</td>\n",
       "    </tr>\n",
       "    <tr>\n",
       "      <th>11</th>\n",
       "      <td>Franche-Comté</td>\n",
       "      <td>156.3</td>\n",
       "      <td>2015</td>\n",
       "    </tr>\n",
       "    <tr>\n",
       "      <th>7</th>\n",
       "      <td>Bretagne</td>\n",
       "      <td>157.1</td>\n",
       "      <td>2015</td>\n",
       "    </tr>\n",
       "    <tr>\n",
       "      <th>23</th>\n",
       "      <td>Nord-Pas-de-Calais</td>\n",
       "      <td>158.2</td>\n",
       "      <td>2015</td>\n",
       "    </tr>\n",
       "    <tr>\n",
       "      <th>28</th>\n",
       "      <td>Rhône-Alpes</td>\n",
       "      <td>158.5</td>\n",
       "      <td>2015</td>\n",
       "    </tr>\n",
       "    <tr>\n",
       "      <th>2</th>\n",
       "      <td>Alsace</td>\n",
       "      <td>158.7</td>\n",
       "      <td>2015</td>\n",
       "    </tr>\n",
       "    <tr>\n",
       "      <th>16</th>\n",
       "      <td>La Réunion</td>\n",
       "      <td>162.8</td>\n",
       "      <td>2015</td>\n",
       "    </tr>\n",
       "    <tr>\n",
       "      <th>22</th>\n",
       "      <td>Midi-Pyrénées</td>\n",
       "      <td>168.5</td>\n",
       "      <td>2015</td>\n",
       "    </tr>\n",
       "    <tr>\n",
       "      <th>3</th>\n",
       "      <td>Aquitaine</td>\n",
       "      <td>170.1</td>\n",
       "      <td>2015</td>\n",
       "    </tr>\n",
       "    <tr>\n",
       "      <th>17</th>\n",
       "      <td>Languedoc-Roussillon</td>\n",
       "      <td>172.5</td>\n",
       "      <td>2015</td>\n",
       "    </tr>\n",
       "    <tr>\n",
       "      <th>18</th>\n",
       "      <td>Limousin</td>\n",
       "      <td>177.1</td>\n",
       "      <td>2015</td>\n",
       "    </tr>\n",
       "    <tr>\n",
       "      <th>27</th>\n",
       "      <td>Provence-Alpes-Côte d’Azur</td>\n",
       "      <td>181.0</td>\n",
       "      <td>2015</td>\n",
       "    </tr>\n",
       "  </tbody>\n",
       "</table>\n",
       "</div>"
      ],
      "text/plain": [
       "             Zones inscription  Médecine générale  Année\n",
       "21                     Mayotte               52.2   2015\n",
       "12                  Guadeloupe              126.3   2015\n",
       "20                  Martinique              127.7   2015\n",
       "8                       Centre              129.6   2015\n",
       "13                      Guyane              132.6   2015\n",
       "25                    Picardie              134.1   2015\n",
       "14             Haute-Normandie              136.2   2015\n",
       "6                    Bourgogne              140.1   2015\n",
       "24            Pays de la Loire              144.1   2015\n",
       "9            Champagne-Ardenne              144.3   2015\n",
       "19                    Lorraine              149.6   2015\n",
       "5              Basse-Normandie              150.5   2015\n",
       "15               Ile-de-France              152.1   2015\n",
       "4                     Auvergne              152.9   2015\n",
       "10                       Corse              155.7   2015\n",
       "26            Poitou-Charentes              155.9   2015\n",
       "11               Franche-Comté              156.3   2015\n",
       "7                     Bretagne              157.1   2015\n",
       "23          Nord-Pas-de-Calais              158.2   2015\n",
       "28                 Rhône-Alpes              158.5   2015\n",
       "2                       Alsace              158.7   2015\n",
       "16                  La Réunion              162.8   2015\n",
       "22               Midi-Pyrénées              168.5   2015\n",
       "3                    Aquitaine              170.1   2015\n",
       "17        Languedoc-Roussillon              172.5   2015\n",
       "18                    Limousin              177.1   2015\n",
       "27  Provence-Alpes-Côte d’Azur              181.0   2015"
      ]
     },
     "execution_count": 7,
     "metadata": {},
     "output_type": "execute_result"
    }
   ],
   "source": [
    "region2015sort"
   ]
  },
  {
   "cell_type": "markdown",
   "metadata": {
    "slideshow": {
     "slide_type": "subslide"
    }
   },
   "source": [
    "\n",
    "** 3. Insertion d'un label associé à la valeur de densité pour la région. **\n"
   ]
  },
  {
   "cell_type": "code",
   "execution_count": 8,
   "metadata": {
    "collapsed": true,
    "slideshow": {
     "slide_type": "-"
    }
   },
   "outputs": [],
   "source": [
    "def autolabel(rects, name_color):\n",
    "    # attach some text labels\n",
    "    for rect in rects:\n",
    "        xloc = rect.get_x()+ rect.get_width() + 2.0\n",
    "        yloc = rect.get_y() + rect.get_height()/2.0\n",
    "        label = ax.text(xloc, yloc, rect.get_width(), horizontalalignment='left',\n",
    "                       verticalalignment='center', color=name_color, weight='bold', size=8,\n",
    "                         clip_on=True)"
   ]
  },
  {
   "cell_type": "markdown",
   "metadata": {
    "slideshow": {
     "slide_type": "subslide"
    }
   },
   "source": [
    "** 4. Création et mise en forme du graphique **"
   ]
  },
  {
   "cell_type": "markdown",
   "metadata": {
    "slideshow": {
     "slide_type": "-"
    }
   },
   "source": [
    "** Labels de l'axe des ordonnées, largeur des barres horizontal. **"
   ]
  },
  {
   "cell_type": "code",
   "execution_count": 9,
   "metadata": {
    "collapsed": true,
    "slideshow": {
     "slide_type": "-"
    }
   },
   "outputs": [],
   "source": [
    "# Largeur de la barre horizontale.\n",
    "width = 0.25\n",
    "y_pos = np.arange(len(region2015sort[u'Médecine générale']))\n",
    "# Définition des labels pour l'axe des ordonnées du graphique.\n",
    "regions_label = region2015sort.iloc[0:,0]"
   ]
  },
  {
   "cell_type": "markdown",
   "metadata": {
    "slideshow": {
     "slide_type": "subslide"
    }
   },
   "source": [
    "** Réalisation du graphique. **"
   ]
  },
  {
   "cell_type": "code",
   "execution_count": 10,
   "metadata": {
    "collapsed": false,
    "scrolled": true,
    "slideshow": {
     "slide_type": "-"
    }
   },
   "outputs": [],
   "source": [
    "graph, ax = plt.subplots()\n",
    "\n",
    "rects1 = ax.barh(y_pos+0.5, region2013sort.iloc[0:,1], width, alpha=0.5, align='center', color='b')\n",
    "rects2 = ax.barh(y_pos+0.25, region2014sort.iloc[0:,1], width, alpha=0.5, align='center', color='r')\n",
    "rects3 = ax.barh(y_pos, region2015sort.iloc[0:,1], width, alpha=0.5, align='center', color='g')\n",
    "\n",
    "# Propriétés du graphique (titre, ordonnées, abscisses, délimitation des valeurs affichées).\n",
    "y_pos_label = y_pos + width\n",
    "ax.set_xlabel(u'Densité')\n",
    "ax.set_title(u'Densité de médecins par région 2013 à 2015 (pour 100 000 habitants)')\n",
    "ax.set_yticks(y_pos_label)\n",
    "ax.set_yticklabels(list(regions_label))\n",
    "ax.set_ylim(-0.5,28)\n",
    "\n",
    "# Ajout de la valeur correspondant à chaque barre horizontale.\n",
    "autolabel(rects1, 'b')\n",
    "autolabel(rects2, '#b22222')\n",
    "autolabel(rects3, 'g')\n",
    "\n",
    "ax.legend((rects1[0], rects2[0], rects3[0]), (u'Année 2013', u'Année 2014', u'Année 2015'), loc=9, ncol=3)\n",
    "\n",
    "# Dimension du graphique.\n",
    "graph.set_figheight(20)\n",
    "graph.set_figwidth(15)\n",
    "# Affichage du graphique.\n",
    "plt.show()"
   ]
  },
  {
   "cell_type": "markdown",
   "metadata": {
    "slideshow": {
     "slide_type": "slide"
    }
   },
   "source": [
    "***\n",
    "### Création du jeu de données de l'année 2013 à 2015\n",
    "Regroupements des 3 dataframes (jeu de données de 2013 à 2015).\n",
    "***"
   ]
  },
  {
   "cell_type": "markdown",
   "metadata": {
    "slideshow": {
     "slide_type": "subslide"
    }
   },
   "source": [
    "** Concaténation des tableau regions 2013 à 2015 et affichage du résultat. **"
   ]
  },
  {
   "cell_type": "code",
   "execution_count": 1,
   "metadata": {
    "collapsed": false,
    "slideshow": {
     "slide_type": "-"
    }
   },
   "outputs": [
    {
     "ename": "NameError",
     "evalue": "name 'pd' is not defined",
     "output_type": "error",
     "traceback": [
      "\u001b[1;31m---------------------------------------------------------------------------\u001b[0m",
      "\u001b[1;31mNameError\u001b[0m                                 Traceback (most recent call last)",
      "\u001b[1;32m<ipython-input-1-9174049ded51>\u001b[0m in \u001b[0;36m<module>\u001b[1;34m()\u001b[0m\n\u001b[0;32m      1\u001b[0m \u001b[1;31m# Concaténation de l'ensemble des 3 dataframes.\u001b[0m\u001b[1;33m\u001b[0m\u001b[1;33m\u001b[0m\u001b[0m\n\u001b[1;32m----> 2\u001b[1;33m \u001b[0mregions13_15\u001b[0m \u001b[1;33m=\u001b[0m \u001b[0mpd\u001b[0m\u001b[1;33m.\u001b[0m\u001b[0mconcat\u001b[0m\u001b[1;33m(\u001b[0m\u001b[1;33m[\u001b[0m\u001b[0mregion2013\u001b[0m\u001b[1;33m,\u001b[0m \u001b[0mregion2014\u001b[0m\u001b[1;33m,\u001b[0m \u001b[0mregion2015\u001b[0m\u001b[1;33m]\u001b[0m\u001b[1;33m,\u001b[0m \u001b[0mignore_index\u001b[0m\u001b[1;33m=\u001b[0m\u001b[0mTrue\u001b[0m\u001b[1;33m)\u001b[0m\u001b[1;33m\u001b[0m\u001b[0m\n\u001b[0m\u001b[0;32m      3\u001b[0m \u001b[0mregions13_15\u001b[0m \u001b[1;33m=\u001b[0m \u001b[0mregions13_15\u001b[0m\u001b[1;33m.\u001b[0m\u001b[0mrename\u001b[0m\u001b[1;33m(\u001b[0m\u001b[0mcolumns\u001b[0m \u001b[1;33m=\u001b[0m \u001b[1;33m{\u001b[0m\u001b[1;34mu'Zones inscription'\u001b[0m\u001b[1;33m:\u001b[0m\u001b[1;34mu'Nom région'\u001b[0m\u001b[1;33m,\u001b[0m \u001b[1;34mu'Médecine générale'\u001b[0m\u001b[1;33m:\u001b[0m\u001b[1;34mu'Généralistes'\u001b[0m\u001b[1;33m}\u001b[0m\u001b[1;33m)\u001b[0m\u001b[1;33m\u001b[0m\u001b[0m\n\u001b[0;32m      4\u001b[0m \u001b[0mregions13_15\u001b[0m\u001b[1;33m\u001b[0m\u001b[0m\n",
      "\u001b[1;31mNameError\u001b[0m: name 'pd' is not defined"
     ]
    }
   ],
   "source": [
    "# Concaténation de l'ensemble des 3 dataframes.\n",
    "regions13_15 = pd.concat([region2013, region2014, region2015], ignore_index=True) \n",
    "regions13_15 = regions13_15.rename(columns = {u'Zones inscription':u'Nom région', u'Médecine générale':u'Généralistes'})\n",
    "regions13_15"
   ]
  },
  {
   "cell_type": "markdown",
   "metadata": {
    "slideshow": {
     "slide_type": "slide"
    }
   },
   "source": [
    "***\n",
    "### Passage en format long et normalisation des données\n",
    "Affichage des résultats dans un graphique  à l'aide la méthode plot.\n",
    "***"
   ]
  },
  {
   "cell_type": "markdown",
   "metadata": {
    "slideshow": {
     "slide_type": "subslide"
    }
   },
   "source": [
    "** 1. Mise en oeuvre d'un graphique montrant l'évolution de la densité des médecins **"
   ]
  },
  {
   "cell_type": "markdown",
   "metadata": {
    "slideshow": {
     "slide_type": "-"
    }
   },
   "source": [
    "** Création du tableau de jeu de données **"
   ]
  },
  {
   "cell_type": "code",
   "execution_count": 13,
   "metadata": {
    "collapsed": false,
    "slideshow": {
     "slide_type": "-"
    }
   },
   "outputs": [
    {
     "data": {
      "text/html": [
       "<div>\n",
       "<table border=\"1\" class=\"dataframe\">\n",
       "  <thead>\n",
       "    <tr>\n",
       "      <th></th>\n",
       "      <th colspan=\"3\" halign=\"left\">Généralistes</th>\n",
       "    </tr>\n",
       "    <tr>\n",
       "      <th>Année</th>\n",
       "      <th>2013</th>\n",
       "      <th>2014</th>\n",
       "      <th>2015</th>\n",
       "    </tr>\n",
       "    <tr>\n",
       "      <th>Nom région</th>\n",
       "      <th></th>\n",
       "      <th></th>\n",
       "      <th></th>\n",
       "    </tr>\n",
       "  </thead>\n",
       "  <tbody>\n",
       "    <tr>\n",
       "      <th>Alsace</th>\n",
       "      <td>159.7</td>\n",
       "      <td>159.6</td>\n",
       "      <td>158.7</td>\n",
       "    </tr>\n",
       "    <tr>\n",
       "      <th>Aquitaine</th>\n",
       "      <td>170.9</td>\n",
       "      <td>170.7</td>\n",
       "      <td>170.1</td>\n",
       "    </tr>\n",
       "    <tr>\n",
       "      <th>Auvergne</th>\n",
       "      <td>153.0</td>\n",
       "      <td>154.3</td>\n",
       "      <td>152.9</td>\n",
       "    </tr>\n",
       "    <tr>\n",
       "      <th>Basse-Normandie</th>\n",
       "      <td>147.8</td>\n",
       "      <td>149.7</td>\n",
       "      <td>150.5</td>\n",
       "    </tr>\n",
       "    <tr>\n",
       "      <th>Bourgogne</th>\n",
       "      <td>141.9</td>\n",
       "      <td>142.2</td>\n",
       "      <td>140.1</td>\n",
       "    </tr>\n",
       "    <tr>\n",
       "      <th>Bretagne</th>\n",
       "      <td>155.3</td>\n",
       "      <td>156.5</td>\n",
       "      <td>157.1</td>\n",
       "    </tr>\n",
       "    <tr>\n",
       "      <th>Centre</th>\n",
       "      <td>130.9</td>\n",
       "      <td>129.9</td>\n",
       "      <td>129.6</td>\n",
       "    </tr>\n",
       "    <tr>\n",
       "      <th>Champagne-Ardenne</th>\n",
       "      <td>144.8</td>\n",
       "      <td>146.0</td>\n",
       "      <td>144.3</td>\n",
       "    </tr>\n",
       "    <tr>\n",
       "      <th>Corse</th>\n",
       "      <td>152.4</td>\n",
       "      <td>152.4</td>\n",
       "      <td>155.7</td>\n",
       "    </tr>\n",
       "    <tr>\n",
       "      <th>Franche-Comté</th>\n",
       "      <td>158.6</td>\n",
       "      <td>155.0</td>\n",
       "      <td>156.3</td>\n",
       "    </tr>\n",
       "    <tr>\n",
       "      <th>Guadeloupe</th>\n",
       "      <td>123.4</td>\n",
       "      <td>127.4</td>\n",
       "      <td>126.3</td>\n",
       "    </tr>\n",
       "    <tr>\n",
       "      <th>Guyane</th>\n",
       "      <td>127.2</td>\n",
       "      <td>129.5</td>\n",
       "      <td>132.6</td>\n",
       "    </tr>\n",
       "    <tr>\n",
       "      <th>Haute-Normandie</th>\n",
       "      <td>137.0</td>\n",
       "      <td>137.1</td>\n",
       "      <td>136.2</td>\n",
       "    </tr>\n",
       "    <tr>\n",
       "      <th>Ile-de-France</th>\n",
       "      <td>154.7</td>\n",
       "      <td>154.0</td>\n",
       "      <td>152.1</td>\n",
       "    </tr>\n",
       "    <tr>\n",
       "      <th>La Réunion</th>\n",
       "      <td>153.6</td>\n",
       "      <td>157.7</td>\n",
       "      <td>162.8</td>\n",
       "    </tr>\n",
       "    <tr>\n",
       "      <th>Languedoc-Roussillon</th>\n",
       "      <td>174.2</td>\n",
       "      <td>174.4</td>\n",
       "      <td>172.5</td>\n",
       "    </tr>\n",
       "    <tr>\n",
       "      <th>Limousin</th>\n",
       "      <td>175.5</td>\n",
       "      <td>175.7</td>\n",
       "      <td>177.1</td>\n",
       "    </tr>\n",
       "    <tr>\n",
       "      <th>Lorraine</th>\n",
       "      <td>148.7</td>\n",
       "      <td>148.2</td>\n",
       "      <td>149.6</td>\n",
       "    </tr>\n",
       "    <tr>\n",
       "      <th>Martinique</th>\n",
       "      <td>122.7</td>\n",
       "      <td>126.3</td>\n",
       "      <td>127.7</td>\n",
       "    </tr>\n",
       "    <tr>\n",
       "      <th>Mayotte</th>\n",
       "      <td>48.9</td>\n",
       "      <td>56.4</td>\n",
       "      <td>52.2</td>\n",
       "    </tr>\n",
       "    <tr>\n",
       "      <th>Midi-Pyrénées</th>\n",
       "      <td>167.7</td>\n",
       "      <td>167.7</td>\n",
       "      <td>168.5</td>\n",
       "    </tr>\n",
       "    <tr>\n",
       "      <th>Nord-Pas-de-Calais</th>\n",
       "      <td>155.3</td>\n",
       "      <td>156.3</td>\n",
       "      <td>158.2</td>\n",
       "    </tr>\n",
       "    <tr>\n",
       "      <th>Pays de la Loire</th>\n",
       "      <td>142.4</td>\n",
       "      <td>143.2</td>\n",
       "      <td>144.1</td>\n",
       "    </tr>\n",
       "    <tr>\n",
       "      <th>Picardie</th>\n",
       "      <td>134.4</td>\n",
       "      <td>133.2</td>\n",
       "      <td>134.1</td>\n",
       "    </tr>\n",
       "    <tr>\n",
       "      <th>Poitou-Charentes</th>\n",
       "      <td>156.5</td>\n",
       "      <td>155.3</td>\n",
       "      <td>155.9</td>\n",
       "    </tr>\n",
       "    <tr>\n",
       "      <th>Provence-Alpes-Côte d’Azur</th>\n",
       "      <td>184.2</td>\n",
       "      <td>183.6</td>\n",
       "      <td>181.0</td>\n",
       "    </tr>\n",
       "    <tr>\n",
       "      <th>Rhône-Alpes</th>\n",
       "      <td>158.1</td>\n",
       "      <td>158.7</td>\n",
       "      <td>158.5</td>\n",
       "    </tr>\n",
       "  </tbody>\n",
       "</table>\n",
       "</div>"
      ],
      "text/plain": [
       "                           Généralistes              \n",
       "Année                              2013   2014   2015\n",
       "Nom région                                           \n",
       "Alsace                            159.7  159.6  158.7\n",
       "Aquitaine                         170.9  170.7  170.1\n",
       "Auvergne                          153.0  154.3  152.9\n",
       "Basse-Normandie                   147.8  149.7  150.5\n",
       "Bourgogne                         141.9  142.2  140.1\n",
       "Bretagne                          155.3  156.5  157.1\n",
       "Centre                            130.9  129.9  129.6\n",
       "Champagne-Ardenne                 144.8  146.0  144.3\n",
       "Corse                             152.4  152.4  155.7\n",
       "Franche-Comté                     158.6  155.0  156.3\n",
       "Guadeloupe                        123.4  127.4  126.3\n",
       "Guyane                            127.2  129.5  132.6\n",
       "Haute-Normandie                   137.0  137.1  136.2\n",
       "Ile-de-France                     154.7  154.0  152.1\n",
       "La Réunion                        153.6  157.7  162.8\n",
       "Languedoc-Roussillon              174.2  174.4  172.5\n",
       "Limousin                          175.5  175.7  177.1\n",
       "Lorraine                          148.7  148.2  149.6\n",
       "Martinique                        122.7  126.3  127.7\n",
       "Mayotte                            48.9   56.4   52.2\n",
       "Midi-Pyrénées                     167.7  167.7  168.5\n",
       "Nord-Pas-de-Calais                155.3  156.3  158.2\n",
       "Pays de la Loire                  142.4  143.2  144.1\n",
       "Picardie                          134.4  133.2  134.1\n",
       "Poitou-Charentes                  156.5  155.3  155.9\n",
       "Provence-Alpes-Côte d’Azur        184.2  183.6  181.0\n",
       "Rhône-Alpes                       158.1  158.7  158.5"
      ]
     },
     "execution_count": 13,
     "metadata": {},
     "output_type": "execute_result"
    }
   ],
   "source": [
    "regions13_15 = regions13_15.sort_values([u'Nom région', u'Année'])\n",
    "regions_names = regions13_15.set_index([u'Nom région', u'Année'])\n",
    "regions_names = regions_names.unstack()\n",
    "regions_names"
   ]
  },
  {
   "cell_type": "markdown",
   "metadata": {
    "slideshow": {
     "slide_type": "subslide"
    }
   },
   "source": [
    "** Affichage du graphique représentant la densité de médecin de 2013 à 2015. **"
   ]
  },
  {
   "cell_type": "code",
   "execution_count": 14,
   "metadata": {
    "collapsed": false,
    "slideshow": {
     "slide_type": "-"
    }
   },
   "outputs": [
    {
     "data": {
      "text/plain": [
       "<matplotlib.legend.Legend at 0xae014e0>"
      ]
     },
     "execution_count": 14,
     "metadata": {},
     "output_type": "execute_result"
    },
    {
     "data": {
      "image/png": "[encoded data removed]",
      "text/plain": [
       "<matplotlib.figure.Figure at 0xae01978>"
      ]
     },
     "metadata": {},
     "output_type": "display_data"
    }
   ],
   "source": [
    "fig = regions_names.sample(7).T.plot()\n",
    "fig.legend(bbox_to_anchor=(1.6, 0.8))"
   ]
  },
  {
   "cell_type": "markdown",
   "metadata": {
    "slideshow": {
     "slide_type": "subslide"
    }
   },
   "source": [
    "** 2. Mise en oeuvre du graphique normalisé **"
   ]
  },
  {
   "cell_type": "code",
   "execution_count": 15,
   "metadata": {
    "collapsed": false,
    "slideshow": {
     "slide_type": "-"
    }
   },
   "outputs": [
    {
     "data": {
      "text/plain": [
       "<matplotlib.legend.Legend at 0xae01048>"
      ]
     },
     "execution_count": 15,
     "metadata": {},
     "output_type": "execute_result"
    },
    {
     "data": {
      "image/png": "[encoded data removed]",
      "text/plain": [
       "<matplotlib.figure.Figure at 0xbed90b8>"
      ]
     },
     "metadata": {},
     "output_type": "display_data"
    }
   ],
   "source": [
    "regions_names_norm=regions_names.div(regions_names.sum(axis=1), axis=0)\n",
    "fig = regions_names_norm.sample(10).T.plot()\n",
    "fig.legend(bbox_to_anchor=(1.6, 0.8))"
   ]
  },
  {
   "cell_type": "markdown",
   "metadata": {
    "slideshow": {
     "slide_type": "slide"
    }
   },
   "source": [
    "***\n",
    "### Algorithme de Clusterisation | ML/Stat\n",
    "***"
   ]
  },
  {
   "cell_type": "markdown",
   "metadata": {
    "slideshow": {
     "slide_type": "subslide"
    }
   },
   "source": [
    "** 1. K-MEANS **"
   ]
  },
  {
   "cell_type": "code",
   "execution_count": 16,
   "metadata": {
    "collapsed": false,
    "slideshow": {
     "slide_type": "-"
    }
   },
   "outputs": [
    {
     "ename": "NameError",
     "evalue": "name 'result' is not defined",
     "output_type": "error",
     "traceback": [
      "\u001b[1;31m---------------------------------------------------------------------------\u001b[0m",
      "\u001b[1;31mNameError\u001b[0m                                 Traceback (most recent call last)",
      "\u001b[1;32m<ipython-input-16-a914ee5f3fab>\u001b[0m in \u001b[0;36m<module>\u001b[1;34m()\u001b[0m\n\u001b[1;32m----> 1\u001b[1;33m \u001b[0mn_samples\u001b[0m\u001b[1;33m,\u001b[0m \u001b[0mn_features\u001b[0m \u001b[1;33m=\u001b[0m \u001b[0mresult\u001b[0m\u001b[1;33m.\u001b[0m\u001b[0mshape\u001b[0m\u001b[1;33m\u001b[0m\u001b[0m\n\u001b[0m\u001b[0;32m      2\u001b[0m print(\"n_features: %d, \\t n_samples %d\"\n\u001b[0;32m      3\u001b[0m       % (n_features,n_samples))\n",
      "\u001b[1;31mNameError\u001b[0m: name 'result' is not defined"
     ]
    }
   ],
   "source": [
    "n_samples, n_features = result.shape\n",
    "print(\"n_features: %d, \\t n_samples %d\"\n",
    "      % (n_features,n_samples))"
   ]
  },
  {
   "cell_type": "code",
   "execution_count": null,
   "metadata": {
    "collapsed": false,
    "slideshow": {
     "slide_type": "-"
    }
   },
   "outputs": [],
   "source": [
    "# visualisation des profils \n",
    "alg=KMeans(init='k-means++', n_clusters=26, n_init=3)\n",
    "alg.fit(result)\n",
    "# plot simple avec matplotlib\n",
    "plt.plot(alg.cluster_centers_.T)\n",
    "plt.show()"
   ]
  },
  {
   "cell_type": "markdown",
   "metadata": {
    "slideshow": {
     "slide_type": "slide"
    }
   },
   "source": [
    "***\n",
    "### Affichage densité par géolocalisation\n",
    "Analyse d'un jeu de données contenant la longitude et latitude des régions françaises.\n",
    "Affichage de la densité par des cercles rouges pour créer une carte de la France.\n",
    "***"
   ]
  },
  {
   "cell_type": "markdown",
   "metadata": {
    "slideshow": {
     "slide_type": "subslide"
    }
   },
   "source": [
    "** 1. Récupération carte de la France **"
   ]
  },
  {
   "cell_type": "code",
   "execution_count": null,
   "metadata": {
    "collapsed": false,
    "slideshow": {
     "slide_type": "-"
    }
   },
   "outputs": [],
   "source": [
    "from IPython.display import Image\n",
    "Image(url=\"./France-regions.svg\")"
   ]
  },
  {
   "cell_type": "markdown",
   "metadata": {
    "slideshow": {
     "slide_type": "subslide"
    }
   },
   "source": [
    "** 2. Récupération et rendu propre du jeu de données **"
   ]
  },
  {
   "cell_type": "code",
   "execution_count": 17,
   "metadata": {
    "collapsed": false,
    "slideshow": {
     "slide_type": "-"
    }
   },
   "outputs": [
    {
     "data": {
      "text/html": [
       "<div>\n",
       "<table border=\"1\" class=\"dataframe\">\n",
       "  <thead>\n",
       "    <tr style=\"text-align: right;\">\n",
       "      <th></th>\n",
       "      <th>nom_région</th>\n",
       "      <th>chef-lieu_région</th>\n",
       "      <th>latitude</th>\n",
       "      <th>longitude</th>\n",
       "    </tr>\n",
       "  </thead>\n",
       "  <tbody>\n",
       "    <tr>\n",
       "      <th>0</th>\n",
       "      <td>Alsace</td>\n",
       "      <td>Strasbourg</td>\n",
       "      <td>48.583333</td>\n",
       "      <td>7.75</td>\n",
       "    </tr>\n",
       "    <tr>\n",
       "      <th>1</th>\n",
       "      <td>Aquitaine</td>\n",
       "      <td>Bordeaux</td>\n",
       "      <td>44.833333</td>\n",
       "      <td>-0.566667</td>\n",
       "    </tr>\n",
       "    <tr>\n",
       "      <th>2</th>\n",
       "      <td>Auvergne</td>\n",
       "      <td>Clermont-Ferrand</td>\n",
       "      <td>45.783333</td>\n",
       "      <td>3.083333</td>\n",
       "    </tr>\n",
       "    <tr>\n",
       "      <th>3</th>\n",
       "      <td>Basse-Normandie</td>\n",
       "      <td>Caen</td>\n",
       "      <td>49.183333</td>\n",
       "      <td>-0.35</td>\n",
       "    </tr>\n",
       "    <tr>\n",
       "      <th>4</th>\n",
       "      <td>Bourgogne</td>\n",
       "      <td>Dijon</td>\n",
       "      <td>47.316667</td>\n",
       "      <td>5.016667</td>\n",
       "    </tr>\n",
       "    <tr>\n",
       "      <th>5</th>\n",
       "      <td>Bretagne</td>\n",
       "      <td>Rennes</td>\n",
       "      <td>48.083333</td>\n",
       "      <td>-1.683333</td>\n",
       "    </tr>\n",
       "    <tr>\n",
       "      <th>6</th>\n",
       "      <td>Centre</td>\n",
       "      <td>Orléans</td>\n",
       "      <td>47.916667</td>\n",
       "      <td>1.9</td>\n",
       "    </tr>\n",
       "    <tr>\n",
       "      <th>7</th>\n",
       "      <td>Champagne-Ardenne</td>\n",
       "      <td>Châlons-en-Champagne</td>\n",
       "      <td>48.958333</td>\n",
       "      <td>4.366667</td>\n",
       "    </tr>\n",
       "    <tr>\n",
       "      <th>8</th>\n",
       "      <td>Corse</td>\n",
       "      <td>Ajaccio</td>\n",
       "      <td>41.916667</td>\n",
       "      <td>8.733333</td>\n",
       "    </tr>\n",
       "    <tr>\n",
       "      <th>9</th>\n",
       "      <td>Franche-Comté</td>\n",
       "      <td>Besançon</td>\n",
       "      <td>47.250000</td>\n",
       "      <td>6.033333</td>\n",
       "    </tr>\n",
       "    <tr>\n",
       "      <th>10</th>\n",
       "      <td>Guadeloupe</td>\n",
       "      <td>Basse-Terre</td>\n",
       "      <td>16.129629</td>\n",
       "      <td>-61.653805</td>\n",
       "    </tr>\n",
       "    <tr>\n",
       "      <th>11</th>\n",
       "      <td>Guyane</td>\n",
       "      <td>Cayenne</td>\n",
       "      <td>4.922420</td>\n",
       "      <td>-52.313453</td>\n",
       "    </tr>\n",
       "    <tr>\n",
       "      <th>12</th>\n",
       "      <td>Haute-Normandie</td>\n",
       "      <td>Rouen</td>\n",
       "      <td>49.433333</td>\n",
       "      <td>1.083333</td>\n",
       "    </tr>\n",
       "    <tr>\n",
       "      <th>13</th>\n",
       "      <td>Ile-de-France</td>\n",
       "      <td>Paris</td>\n",
       "      <td>48.864049</td>\n",
       "      <td>2.331053</td>\n",
       "    </tr>\n",
       "    <tr>\n",
       "      <th>14</th>\n",
       "      <td>La Réunion</td>\n",
       "      <td>Saint-Denis</td>\n",
       "      <td>-20.878900</td>\n",
       "      <td>55.4481</td>\n",
       "    </tr>\n",
       "    <tr>\n",
       "      <th>15</th>\n",
       "      <td>Languedoc-Roussillon</td>\n",
       "      <td>Montpellier</td>\n",
       "      <td>43.600000</td>\n",
       "      <td>3.883333</td>\n",
       "    </tr>\n",
       "    <tr>\n",
       "      <th>16</th>\n",
       "      <td>Limousin</td>\n",
       "      <td>Limoges</td>\n",
       "      <td>45.850000</td>\n",
       "      <td>1.25</td>\n",
       "    </tr>\n",
       "    <tr>\n",
       "      <th>17</th>\n",
       "      <td>Lorraine</td>\n",
       "      <td>Metz</td>\n",
       "      <td>49.133333</td>\n",
       "      <td>6.166667</td>\n",
       "    </tr>\n",
       "    <tr>\n",
       "      <th>18</th>\n",
       "      <td>Martinique</td>\n",
       "      <td>Fort-de-France</td>\n",
       "      <td>14.616065</td>\n",
       "      <td>-61.05878</td>\n",
       "    </tr>\n",
       "    <tr>\n",
       "      <th>19</th>\n",
       "      <td>Mayotte</td>\n",
       "      <td>Mamoudzou</td>\n",
       "      <td>-12.780949</td>\n",
       "      <td>45.227872</td>\n",
       "    </tr>\n",
       "    <tr>\n",
       "      <th>20</th>\n",
       "      <td>Midi-Pyrénées</td>\n",
       "      <td>Toulouse</td>\n",
       "      <td>43.600000</td>\n",
       "      <td>1.433333</td>\n",
       "    </tr>\n",
       "    <tr>\n",
       "      <th>21</th>\n",
       "      <td>Nord-Pas-de-Calais</td>\n",
       "      <td>Lille</td>\n",
       "      <td>50.633333</td>\n",
       "      <td>3.066667</td>\n",
       "    </tr>\n",
       "    <tr>\n",
       "      <th>22</th>\n",
       "      <td>Pays de la Loire</td>\n",
       "      <td>Nantes</td>\n",
       "      <td>47.216667</td>\n",
       "      <td>-1.55</td>\n",
       "    </tr>\n",
       "    <tr>\n",
       "      <th>23</th>\n",
       "      <td>Picardie</td>\n",
       "      <td>Amiens</td>\n",
       "      <td>49.900000</td>\n",
       "      <td>2.3</td>\n",
       "    </tr>\n",
       "    <tr>\n",
       "      <th>24</th>\n",
       "      <td>Poitou-Charentes</td>\n",
       "      <td>Poitiers</td>\n",
       "      <td>46.583333</td>\n",
       "      <td>0.333333</td>\n",
       "    </tr>\n",
       "    <tr>\n",
       "      <th>25</th>\n",
       "      <td>Provence-Alpes-Côte d'Azur</td>\n",
       "      <td>Marseille</td>\n",
       "      <td>43.296482</td>\n",
       "      <td>5.36978</td>\n",
       "    </tr>\n",
       "    <tr>\n",
       "      <th>26</th>\n",
       "      <td>Rhône-Alpes</td>\n",
       "      <td>Lyon</td>\n",
       "      <td>45.759723</td>\n",
       "      <td>4.8422</td>\n",
       "    </tr>\n",
       "  </tbody>\n",
       "</table>\n",
       "</div>"
      ],
      "text/plain": [
       "                    nom_région      chef-lieu_région   latitude   longitude\n",
       "0                       Alsace            Strasbourg  48.583333        7.75\n",
       "1                    Aquitaine              Bordeaux  44.833333   -0.566667\n",
       "2                     Auvergne      Clermont-Ferrand  45.783333    3.083333\n",
       "3              Basse-Normandie                  Caen  49.183333       -0.35\n",
       "4                    Bourgogne                 Dijon  47.316667    5.016667\n",
       "5                     Bretagne                Rennes  48.083333   -1.683333\n",
       "6                       Centre               Orléans  47.916667         1.9\n",
       "7            Champagne-Ardenne  Châlons-en-Champagne  48.958333    4.366667\n",
       "8                        Corse               Ajaccio  41.916667    8.733333\n",
       "9                Franche-Comté              Besançon  47.250000    6.033333\n",
       "10                  Guadeloupe           Basse-Terre  16.129629  -61.653805\n",
       "11                      Guyane               Cayenne   4.922420  -52.313453\n",
       "12             Haute-Normandie                 Rouen  49.433333    1.083333\n",
       "13               Ile-de-France                 Paris  48.864049    2.331053\n",
       "14                  La Réunion           Saint-Denis -20.878900     55.4481\n",
       "15        Languedoc-Roussillon           Montpellier  43.600000    3.883333\n",
       "16                    Limousin               Limoges  45.850000        1.25\n",
       "17                    Lorraine                  Metz  49.133333    6.166667\n",
       "18                  Martinique        Fort-de-France  14.616065   -61.05878\n",
       "19                     Mayotte             Mamoudzou -12.780949   45.227872\n",
       "20               Midi-Pyrénées              Toulouse  43.600000    1.433333\n",
       "21          Nord-Pas-de-Calais                 Lille  50.633333    3.066667\n",
       "22            Pays de la Loire                Nantes  47.216667       -1.55\n",
       "23                    Picardie                Amiens  49.900000         2.3\n",
       "24            Poitou-Charentes              Poitiers  46.583333    0.333333\n",
       "25  Provence-Alpes-Côte d'Azur             Marseille  43.296482     5.36978\n",
       "26                 Rhône-Alpes                  Lyon  45.759723      4.8422"
      ]
     },
     "execution_count": 17,
     "metadata": {},
     "output_type": "execute_result"
    }
   ],
   "source": [
    "reader = pd.read_excel('./eucircos_regions_departements_circonscriptions_communes_gps.xlsx', encoding='utf-8')\n",
    "\n",
    "# Récupération des colonnes intéressantes.\n",
    "tab = reader[[u'nom_région', u'chef-lieu_région', u'nom_commune', u'latitude', u'longitude']]\n",
    "\n",
    "# Récupérations des données (lignes) de longitudes et latitudes des régions.\n",
    "regions_LatLng = tab[tab[u'chef-lieu_région'] == tab[u'nom_commune']]\n",
    "# Trie des données et suppression des doublons de lignes pour la colonne des chef-lieu_région.\n",
    "regions_LatLng = regions_LatLng.sort_values([u'nom_région', u'nom_région', u'chef-lieu_région', u'nom_commune'])\n",
    "regions_LatLng = regions_LatLng.drop_duplicates(u'chef-lieu_région')\n",
    "\n",
    "# Réindexation des index de 0 à 26 et suppression de la colonne nom_commune.\n",
    "regions_LatLng.reset_index(inplace=True)\n",
    "regions_LatLng = regions_LatLng[[u'nom_région', u'chef-lieu_région', u'latitude', u'longitude']]\n",
    "regions_LatLng"
   ]
  },
  {
   "cell_type": "markdown",
   "metadata": {
    "slideshow": {
     "slide_type": "subslide"
    }
   },
   "source": [
    "** 3. Réalisation d'une nouvelle dataframe avec les informations de géolocalisation et de densité **"
   ]
  },
  {
   "cell_type": "markdown",
   "metadata": {
    "slideshow": {
     "slide_type": "-"
    }
   },
   "source": [
    "** Création du jeu de donnée : jointure de la table de geolocalisation avec celle des densités de médecins par région **"
   ]
  },
  {
   "cell_type": "code",
   "execution_count": 18,
   "metadata": {
    "collapsed": false,
    "slideshow": {
     "slide_type": "-"
    }
   },
   "outputs": [
    {
     "data": {
      "text/html": [
       "<div>\n",
       "<table border=\"1\" class=\"dataframe\">\n",
       "  <thead>\n",
       "    <tr>\n",
       "      <th></th>\n",
       "      <th>Nom région</th>\n",
       "      <th>Chef-lieu</th>\n",
       "      <th>Latitude</th>\n",
       "      <th>Longitude</th>\n",
       "      <th colspan=\"3\" halign=\"left\">Généralistes</th>\n",
       "    </tr>\n",
       "    <tr>\n",
       "      <th>Année</th>\n",
       "      <th></th>\n",
       "      <th></th>\n",
       "      <th></th>\n",
       "      <th></th>\n",
       "      <th>2013</th>\n",
       "      <th>2014</th>\n",
       "      <th>2015</th>\n",
       "    </tr>\n",
       "  </thead>\n",
       "  <tbody>\n",
       "    <tr>\n",
       "      <th>0</th>\n",
       "      <td>Alsace</td>\n",
       "      <td>Strasbourg</td>\n",
       "      <td>48.583333</td>\n",
       "      <td>7.75</td>\n",
       "      <td>159.7</td>\n",
       "      <td>159.6</td>\n",
       "      <td>158.7</td>\n",
       "    </tr>\n",
       "    <tr>\n",
       "      <th>1</th>\n",
       "      <td>Aquitaine</td>\n",
       "      <td>Bordeaux</td>\n",
       "      <td>44.833333</td>\n",
       "      <td>-0.566667</td>\n",
       "      <td>170.9</td>\n",
       "      <td>170.7</td>\n",
       "      <td>170.1</td>\n",
       "    </tr>\n",
       "    <tr>\n",
       "      <th>2</th>\n",
       "      <td>Auvergne</td>\n",
       "      <td>Clermont-Ferrand</td>\n",
       "      <td>45.783333</td>\n",
       "      <td>3.083333</td>\n",
       "      <td>153.0</td>\n",
       "      <td>154.3</td>\n",
       "      <td>152.9</td>\n",
       "    </tr>\n",
       "    <tr>\n",
       "      <th>3</th>\n",
       "      <td>Basse-Normandie</td>\n",
       "      <td>Caen</td>\n",
       "      <td>49.183333</td>\n",
       "      <td>-0.35</td>\n",
       "      <td>147.8</td>\n",
       "      <td>149.7</td>\n",
       "      <td>150.5</td>\n",
       "    </tr>\n",
       "    <tr>\n",
       "      <th>4</th>\n",
       "      <td>Bourgogne</td>\n",
       "      <td>Dijon</td>\n",
       "      <td>47.316667</td>\n",
       "      <td>5.016667</td>\n",
       "      <td>141.9</td>\n",
       "      <td>142.2</td>\n",
       "      <td>140.1</td>\n",
       "    </tr>\n",
       "    <tr>\n",
       "      <th>5</th>\n",
       "      <td>Bretagne</td>\n",
       "      <td>Rennes</td>\n",
       "      <td>48.083333</td>\n",
       "      <td>-1.683333</td>\n",
       "      <td>155.3</td>\n",
       "      <td>156.5</td>\n",
       "      <td>157.1</td>\n",
       "    </tr>\n",
       "    <tr>\n",
       "      <th>6</th>\n",
       "      <td>Centre</td>\n",
       "      <td>Orléans</td>\n",
       "      <td>47.916667</td>\n",
       "      <td>1.9</td>\n",
       "      <td>130.9</td>\n",
       "      <td>129.9</td>\n",
       "      <td>129.6</td>\n",
       "    </tr>\n",
       "    <tr>\n",
       "      <th>7</th>\n",
       "      <td>Champagne-Ardenne</td>\n",
       "      <td>Châlons-en-Champagne</td>\n",
       "      <td>48.958333</td>\n",
       "      <td>4.366667</td>\n",
       "      <td>144.8</td>\n",
       "      <td>146.0</td>\n",
       "      <td>144.3</td>\n",
       "    </tr>\n",
       "    <tr>\n",
       "      <th>8</th>\n",
       "      <td>Corse</td>\n",
       "      <td>Ajaccio</td>\n",
       "      <td>41.916667</td>\n",
       "      <td>8.733333</td>\n",
       "      <td>152.4</td>\n",
       "      <td>152.4</td>\n",
       "      <td>155.7</td>\n",
       "    </tr>\n",
       "    <tr>\n",
       "      <th>9</th>\n",
       "      <td>Franche-Comté</td>\n",
       "      <td>Besançon</td>\n",
       "      <td>47.250000</td>\n",
       "      <td>6.033333</td>\n",
       "      <td>158.6</td>\n",
       "      <td>155.0</td>\n",
       "      <td>156.3</td>\n",
       "    </tr>\n",
       "    <tr>\n",
       "      <th>10</th>\n",
       "      <td>Haute-Normandie</td>\n",
       "      <td>Rouen</td>\n",
       "      <td>49.433333</td>\n",
       "      <td>1.083333</td>\n",
       "      <td>137.0</td>\n",
       "      <td>137.1</td>\n",
       "      <td>136.2</td>\n",
       "    </tr>\n",
       "    <tr>\n",
       "      <th>11</th>\n",
       "      <td>Ile-de-France</td>\n",
       "      <td>Paris</td>\n",
       "      <td>48.864049</td>\n",
       "      <td>2.331053</td>\n",
       "      <td>154.7</td>\n",
       "      <td>154.0</td>\n",
       "      <td>152.1</td>\n",
       "    </tr>\n",
       "    <tr>\n",
       "      <th>12</th>\n",
       "      <td>Languedoc-Roussillon</td>\n",
       "      <td>Montpellier</td>\n",
       "      <td>43.600000</td>\n",
       "      <td>3.883333</td>\n",
       "      <td>174.2</td>\n",
       "      <td>174.4</td>\n",
       "      <td>172.5</td>\n",
       "    </tr>\n",
       "    <tr>\n",
       "      <th>13</th>\n",
       "      <td>Limousin</td>\n",
       "      <td>Limoges</td>\n",
       "      <td>45.850000</td>\n",
       "      <td>1.25</td>\n",
       "      <td>175.5</td>\n",
       "      <td>175.7</td>\n",
       "      <td>177.1</td>\n",
       "    </tr>\n",
       "    <tr>\n",
       "      <th>14</th>\n",
       "      <td>Lorraine</td>\n",
       "      <td>Metz</td>\n",
       "      <td>49.133333</td>\n",
       "      <td>6.166667</td>\n",
       "      <td>148.7</td>\n",
       "      <td>148.2</td>\n",
       "      <td>149.6</td>\n",
       "    </tr>\n",
       "    <tr>\n",
       "      <th>15</th>\n",
       "      <td>Midi-Pyrénées</td>\n",
       "      <td>Toulouse</td>\n",
       "      <td>43.600000</td>\n",
       "      <td>1.433333</td>\n",
       "      <td>167.7</td>\n",
       "      <td>167.7</td>\n",
       "      <td>168.5</td>\n",
       "    </tr>\n",
       "    <tr>\n",
       "      <th>16</th>\n",
       "      <td>Nord-Pas-de-Calais</td>\n",
       "      <td>Lille</td>\n",
       "      <td>50.633333</td>\n",
       "      <td>3.066667</td>\n",
       "      <td>155.3</td>\n",
       "      <td>156.3</td>\n",
       "      <td>158.2</td>\n",
       "    </tr>\n",
       "    <tr>\n",
       "      <th>17</th>\n",
       "      <td>Pays de la Loire</td>\n",
       "      <td>Nantes</td>\n",
       "      <td>47.216667</td>\n",
       "      <td>-1.55</td>\n",
       "      <td>142.4</td>\n",
       "      <td>143.2</td>\n",
       "      <td>144.1</td>\n",
       "    </tr>\n",
       "    <tr>\n",
       "      <th>18</th>\n",
       "      <td>Picardie</td>\n",
       "      <td>Amiens</td>\n",
       "      <td>49.900000</td>\n",
       "      <td>2.3</td>\n",
       "      <td>134.4</td>\n",
       "      <td>133.2</td>\n",
       "      <td>134.1</td>\n",
       "    </tr>\n",
       "    <tr>\n",
       "      <th>19</th>\n",
       "      <td>Poitou-Charentes</td>\n",
       "      <td>Poitiers</td>\n",
       "      <td>46.583333</td>\n",
       "      <td>0.333333</td>\n",
       "      <td>156.5</td>\n",
       "      <td>155.3</td>\n",
       "      <td>155.9</td>\n",
       "    </tr>\n",
       "    <tr>\n",
       "      <th>20</th>\n",
       "      <td>Rhône-Alpes</td>\n",
       "      <td>Lyon</td>\n",
       "      <td>45.759723</td>\n",
       "      <td>4.8422</td>\n",
       "      <td>158.1</td>\n",
       "      <td>158.7</td>\n",
       "      <td>158.5</td>\n",
       "    </tr>\n",
       "  </tbody>\n",
       "</table>\n",
       "</div>"
      ],
      "text/plain": [
       "                 Nom région             Chef-lieu   Latitude  Longitude  \\\n",
       "Année                                                                     \n",
       "0                    Alsace            Strasbourg  48.583333       7.75   \n",
       "1                 Aquitaine              Bordeaux  44.833333  -0.566667   \n",
       "2                  Auvergne      Clermont-Ferrand  45.783333   3.083333   \n",
       "3           Basse-Normandie                  Caen  49.183333      -0.35   \n",
       "4                 Bourgogne                 Dijon  47.316667   5.016667   \n",
       "5                  Bretagne                Rennes  48.083333  -1.683333   \n",
       "6                    Centre               Orléans  47.916667        1.9   \n",
       "7         Champagne-Ardenne  Châlons-en-Champagne  48.958333   4.366667   \n",
       "8                     Corse               Ajaccio  41.916667   8.733333   \n",
       "9             Franche-Comté              Besançon  47.250000   6.033333   \n",
       "10          Haute-Normandie                 Rouen  49.433333   1.083333   \n",
       "11            Ile-de-France                 Paris  48.864049   2.331053   \n",
       "12     Languedoc-Roussillon           Montpellier  43.600000   3.883333   \n",
       "13                 Limousin               Limoges  45.850000       1.25   \n",
       "14                 Lorraine                  Metz  49.133333   6.166667   \n",
       "15            Midi-Pyrénées              Toulouse  43.600000   1.433333   \n",
       "16       Nord-Pas-de-Calais                 Lille  50.633333   3.066667   \n",
       "17         Pays de la Loire                Nantes  47.216667      -1.55   \n",
       "18                 Picardie                Amiens  49.900000        2.3   \n",
       "19         Poitou-Charentes              Poitiers  46.583333   0.333333   \n",
       "20              Rhône-Alpes                  Lyon  45.759723     4.8422   \n",
       "\n",
       "      Généralistes                \n",
       "Année         2013   2014   2015  \n",
       "0            159.7  159.6  158.7  \n",
       "1            170.9  170.7  170.1  \n",
       "2            153.0  154.3  152.9  \n",
       "3            147.8  149.7  150.5  \n",
       "4            141.9  142.2  140.1  \n",
       "5            155.3  156.5  157.1  \n",
       "6            130.9  129.9  129.6  \n",
       "7            144.8  146.0  144.3  \n",
       "8            152.4  152.4  155.7  \n",
       "9            158.6  155.0  156.3  \n",
       "10           137.0  137.1  136.2  \n",
       "11           154.7  154.0  152.1  \n",
       "12           174.2  174.4  172.5  \n",
       "13           175.5  175.7  177.1  \n",
       "14           148.7  148.2  149.6  \n",
       "15           167.7  167.7  168.5  \n",
       "16           155.3  156.3  158.2  \n",
       "17           142.4  143.2  144.1  \n",
       "18           134.4  133.2  134.1  \n",
       "19           156.5  155.3  155.9  \n",
       "20           158.1  158.7  158.5  "
      ]
     },
     "execution_count": 18,
     "metadata": {},
     "output_type": "execute_result"
    }
   ],
   "source": [
    "# Renommage des colonnes de la table précédente.\n",
    "regions_LatLng=regions_LatLng.rename(columns = {u'nom_région':u'Nom région', u'chef-lieu_région':u'Chef-lieu', u'latitude':u'Latitude', u'longitude':u'Longitude'})\n",
    "\n",
    "# Jointure des deux tables selon la colonne \"Nom région\".\n",
    "result = pd.merge(regions13_15, regions_LatLng, on=[u'Nom région'])\n",
    "result = result.set_index([u'Nom région', u'Chef-lieu', u'Latitude', u'Longitude', u'Année'])\n",
    "result = result.unstack()\n",
    "result.drop([u'Guadeloupe', u'Guyane', u'La Réunion', u'Martinique', u'Mayotte'],inplace=True)\n",
    "result.reset_index(inplace=True)\n",
    "result"
   ]
  },
  {
   "cell_type": "markdown",
   "metadata": {
    "slideshow": {
     "slide_type": "subslide"
    }
   },
   "source": [
    "** Affichage de la carte. **"
   ]
  },
  {
   "cell_type": "code",
   "execution_count": 19,
   "metadata": {
    "collapsed": false,
    "slideshow": {
     "slide_type": "-"
    }
   },
   "outputs": [
    {
     "data": {
      "image/png": "[encoded data removed]",
      "text/plain": [
       "<matplotlib.figure.Figure at 0xea06828>"
      ]
     },
     "metadata": {},
     "output_type": "display_data"
    }
   ],
   "source": [
    "from PIL import Image\n",
    "img = Image.open('./France-regions.jpg')\n",
    "img.save(\"./France-regions.jpg\", \"JPEG\")\n",
    "for year in result[u'Généralistes']:\n",
    "    fig = plt.figure(figsize=(10,9))\n",
    "    ax  = fig.add_subplot(111)\n",
    "    ax.set_axis_bgcolor(\"white\")\n",
    "    ax.scatter(np.array(result[u'Longitude'].values,dtype='float'),np.array(result[u'Latitude'].values,dtype='float'),color=\"white\")\n",
    "    ax.set_title(u'Médecin France',fontsize=14, fontweight='bold')\n",
    "    for i, txt in enumerate(result[u'Généralistes'][year]):\n",
    "        ax.text(result[u'Longitude'][i], result[u'Latitude'][i], txt,\n",
    "                bbox={'facecolor':'#aaee33', 'alpha':0.5, 'pad':5},verticalalignment='center', horizontalalignment='center')\n",
    "\n",
    "    plt.tick_params(   \n",
    "        which='both',    \n",
    "        bottom='off',     \n",
    "        top='off',        \n",
    "        labelbottom='off',\n",
    "        right='off',\n",
    "        left='off',\n",
    "        labelleft='off')\n",
    "    imgplot=plt.imshow(img, extent=[np.amin(np.array(result[u'Longitude'].values,dtype='float')),\n",
    "                                    np.amax(np.array(result[u'Longitude'].values,dtype='float')),\n",
    "                                    np.amin(np.array(result[u'Latitude'].values,dtype='float')),\n",
    "                                    np.amax(np.array(result[u'Latitude'].values,dtype='float'))], aspect='auto')\n",
    "    plt.savefig(\"./gif/{}_map.jpg\".format(year))\n",
    "    plt.tight_layout()\n",
    "    plt.show()"
   ]
  }
 ],
 "metadata": {
  "celltoolbar": "Raw Cell Format",
  "kernelspec": {
   "display_name": "Python 2",
   "language": "python",
   "name": "python2"
  },
  "language_info": {
   "codemirror_mode": {
    "name": "ipython",
    "version": 2
   },
   "file_extension": ".py",
   "mimetype": "text/x-python",
   "name": "python",
   "nbconvert_exporter": "python",
   "pygments_lexer": "ipython2",
   "version": "2.7.11"
  }
 },
 "nbformat": 4,
 "nbformat_minor": 0
}
